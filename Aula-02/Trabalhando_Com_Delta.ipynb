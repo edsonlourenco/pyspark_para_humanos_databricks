{
 "cells": [
  {
   "cell_type": "markdown",
   "metadata": {
    "application/vnd.databricks.v1+cell": {
     "cellMetadata": {},
     "inputWidgets": {},
     "nuid": "c28f1dfb-9aa7-429f-99be-9b8ca41a8ca8",
     "showTitle": false,
     "title": ""
    }
   },
   "source": [
    "# Aula 02 - Criando tabela Delta\n",
    "\n",
    "ACID representa um acrônimo para as quatro características fundamentais que delineiam uma transação: <strong>Atomicidade, Consistência, Isolamento e Durabilidade</strong>. Se uma operação no banco de dados incorpora essas propriedades ACID, ela é classificada como uma transação ACID.\n",
    "\n",
    "<br/>\n",
    "<li><strong>Atomicidade</strong> assegura que cada instrução de uma transação, seja leitura, gravação, atualização ou exclusão de dados, seja tratada como uma unidade única. Isso significa que todas as instruções são executadas integralmente ou nenhuma delas é executada. Tal propriedade impede a perda ou corrupção de dados, como quando a fonte de dados de streaming falha no meio do fluxo.</li>\n",
    "\n",
    "<li><strong>Consistência</strong> garante que as transações modifiquem as tabelas de maneiras predefinidas e previsíveis. Essa consistência transacional mantém as tabelas em um estado consistente mesmo em situações de corrupção de dados ou erros, evitando resultados de execução não intencionais.</li>\n",
    "\n",
    "<li><strong>Isolamento</strong> permite que vários usuários leiam e gravem na mesma tabela simultaneamente, mas as transações são isoladas, de modo que operações simultâneas não interferem umas nas outras. Na prática, cada solicitação é tratada como se estivesse ocorrendo de forma independente, mesmo que ocorram simultaneamente.</li>\n",
    "\n",
    "<li><strong>Durabilidade</strong> garante que as alterações de dados provenientes de transações bem-sucedidas sejam preservadas, mesmo em casos de falha do sistema. Essa característica assegura que os dados permaneçam consistentes e acessíveis, mesmo após eventos inesperados ou falhas no sistema.</li>"
   ]
  },
  {
   "cell_type": "code",
   "execution_count": 0,
   "metadata": {
    "application/vnd.databricks.v1+cell": {
     "cellMetadata": {
      "byteLimit": 2048000,
      "rowLimit": 10000
     },
     "inputWidgets": {},
     "nuid": "9a314322-b3d7-4b8c-ad85-9c220c013fe4",
     "showTitle": false,
     "title": ""
    }
   },
   "outputs": [],
   "source": [
    "dataset_uri = 'dbfs:/databricks-datasets/'\n",
    "display(dbutils.fs.ls(dataset_uri))"
   ]
  },
  {
   "cell_type": "markdown",
   "metadata": {
    "application/vnd.databricks.v1+cell": {
     "cellMetadata": {},
     "inputWidgets": {},
     "nuid": "9e25f1bf-a6d7-43ff-9fa4-67a8686d6b52",
     "showTitle": false,
     "title": ""
    }
   },
   "source": [
    "#### Olhando dentro do DataSet"
   ]
  },
  {
   "cell_type": "code",
   "execution_count": 0,
   "metadata": {
    "application/vnd.databricks.v1+cell": {
     "cellMetadata": {
      "byteLimit": 2048000,
      "rowLimit": 10000
     },
     "inputWidgets": {},
     "nuid": "4110b542-bc8c-4d8f-87e2-4db3a988fbff",
     "showTitle": false,
     "title": ""
    }
   },
   "outputs": [],
   "source": [
    "dataset_airlines = 'dbfs:/databricks-datasets/airlines/'\n",
    "display(dbutils.fs.ls(dataset_airlines))"
   ]
  },
  {
   "cell_type": "markdown",
   "metadata": {
    "application/vnd.databricks.v1+cell": {
     "cellMetadata": {},
     "inputWidgets": {},
     "nuid": "c8996da8-b261-4e76-a8f9-e179b59064a7",
     "showTitle": false,
     "title": ""
    }
   },
   "source": [
    "#### Lendo uma fonte de dados"
   ]
  },
  {
   "cell_type": "code",
   "execution_count": 0,
   "metadata": {
    "application/vnd.databricks.v1+cell": {
     "cellMetadata": {
      "byteLimit": 2048000,
      "rowLimit": 10000
     },
     "inputWidgets": {},
     "nuid": "e36915ca-3362-4195-9a94-360a32d5312b",
     "showTitle": false,
     "title": ""
    }
   },
   "outputs": [],
   "source": [
    "airlines_uri = 'dbfs:/databricks-datasets/airlines/part-00000'\n",
    "df_airlines = (spark.read\n",
    "               .load(airlines_uri, \n",
    "                    format=\"csv\", \n",
    "                    sep=',', \n",
    "                    inferSchema=\"true\", \n",
    "                    header=\"true\")\n",
    "              )\n",
    "df_airlines.limit(5).show()"
   ]
  },
  {
   "cell_type": "markdown",
   "metadata": {
    "application/vnd.databricks.v1+cell": {
     "cellMetadata": {},
     "inputWidgets": {},
     "nuid": "2b6e8f74-bbc1-4bdd-a2d6-59b230c2c2d1",
     "showTitle": false,
     "title": ""
    }
   },
   "source": [
    "#### Lendo os dados"
   ]
  },
  {
   "cell_type": "code",
   "execution_count": 0,
   "metadata": {
    "application/vnd.databricks.v1+cell": {
     "cellMetadata": {
      "byteLimit": 2048000,
      "rowLimit": 10000
     },
     "inputWidgets": {},
     "nuid": "8db2fea4-de8b-4022-887a-98eee206f330",
     "showTitle": false,
     "title": ""
    }
   },
   "outputs": [],
   "source": [
    "df_airlines.limit(5).display()"
   ]
  },
  {
   "cell_type": "code",
   "execution_count": 0,
   "metadata": {
    "application/vnd.databricks.v1+cell": {
     "cellMetadata": {
      "byteLimit": 2048000,
      "rowLimit": 10000
     },
     "inputWidgets": {},
     "nuid": "b5cea8e7-b3b6-494f-be66-9a6e5a42d266",
     "showTitle": false,
     "title": ""
    }
   },
   "outputs": [],
   "source": [
    "df_airlines.printSchema()"
   ]
  },
  {
   "cell_type": "markdown",
   "metadata": {
    "application/vnd.databricks.v1+cell": {
     "cellMetadata": {},
     "inputWidgets": {},
     "nuid": "c5962173-8e97-48e6-bb5e-fa9b4c46e640",
     "showTitle": false,
     "title": ""
    }
   },
   "source": [
    "#### Contando os dados"
   ]
  },
  {
   "cell_type": "code",
   "execution_count": 0,
   "metadata": {
    "application/vnd.databricks.v1+cell": {
     "cellMetadata": {
      "byteLimit": 2048000,
      "rowLimit": 10000
     },
     "inputWidgets": {},
     "nuid": "ab9237c3-87c9-4469-bce0-f8ad338b8553",
     "showTitle": false,
     "title": ""
    }
   },
   "outputs": [],
   "source": [
    "df_airlines.count() #645.918"
   ]
  },
  {
   "cell_type": "markdown",
   "metadata": {
    "application/vnd.databricks.v1+cell": {
     "cellMetadata": {},
     "inputWidgets": {},
     "nuid": "d11e8149-1e2d-446a-8517-d5decb077787",
     "showTitle": false,
     "title": ""
    }
   },
   "source": [
    "#### Create Schema (Database)"
   ]
  },
  {
   "cell_type": "markdown",
   "metadata": {
    "application/vnd.databricks.v1+cell": {
     "cellMetadata": {},
     "inputWidgets": {},
     "nuid": "7fc50043-c0f2-4932-b8ff-6795008fbd20",
     "showTitle": false,
     "title": ""
    }
   },
   "source": [
    "#### Salvando os dados em delta"
   ]
  },
  {
   "cell_type": "code",
   "execution_count": 0,
   "metadata": {
    "application/vnd.databricks.v1+cell": {
     "cellMetadata": {
      "byteLimit": 2048000,
      "rowLimit": 10000
     },
     "inputWidgets": {},
     "nuid": "1304aa5e-ead7-4793-bde4-26fe76e8e5a6",
     "showTitle": false,
     "title": ""
    }
   },
   "outputs": [],
   "source": [
    "db_name = 'airline'\n",
    "table_name = 'airline_part_00000'\n",
    "query_create_schema = f'CREATE SCHEMA IF NOT EXISTS {db_name}'\n",
    "\n",
    "spark.sql(query_create_schema)\n",
    "(df_airlines\n",
    "    #.limit(100)\n",
    "    .write.mode('overwrite')\n",
    "    .saveAsTable(f'{db_name}.{table_name}')\n",
    ")"
   ]
  },
  {
   "cell_type": "code",
   "execution_count": 0,
   "metadata": {
    "application/vnd.databricks.v1+cell": {
     "cellMetadata": {
      "byteLimit": 2048000,
      "implicitDf": true,
      "rowLimit": 10000
     },
     "inputWidgets": {},
     "nuid": "1ac3ad30-8a7c-40ad-9d28-c01f07392b6e",
     "showTitle": false,
     "title": ""
    }
   },
   "outputs": [],
   "source": [
    "%sql\n",
    "SELECT COUNT(*) FROM airline.airline_part_00000 -- 645.918"
   ]
  },
  {
   "cell_type": "markdown",
   "metadata": {
    "application/vnd.databricks.v1+cell": {
     "cellMetadata": {},
     "inputWidgets": {},
     "nuid": "3e2b3acb-db68-4346-9cab-a185b84ebcb9",
     "showTitle": false,
     "title": ""
    }
   },
   "source": [
    "#### Checando detalhes"
   ]
  },
  {
   "cell_type": "code",
   "execution_count": 0,
   "metadata": {
    "application/vnd.databricks.v1+cell": {
     "cellMetadata": {
      "byteLimit": 2048000,
      "rowLimit": 10000
     },
     "inputWidgets": {},
     "nuid": "61276e11-6b7b-4ed4-96e9-15abb0876eee",
     "showTitle": false,
     "title": ""
    }
   },
   "outputs": [],
   "source": [
    "warehouse_uri = 'dbfs:/user/hive/warehouse/'\n",
    "display(dbutils.fs.ls(warehouse_uri))"
   ]
  },
  {
   "cell_type": "code",
   "execution_count": 0,
   "metadata": {
    "application/vnd.databricks.v1+cell": {
     "cellMetadata": {
      "byteLimit": 2048000,
      "rowLimit": 10000
     },
     "inputWidgets": {},
     "nuid": "67478c38-0344-4125-9d1f-cdebca804c95",
     "showTitle": false,
     "title": ""
    }
   },
   "outputs": [],
   "source": [
    "warehouse_airline_uri = 'dbfs:/user/hive/warehouse/airline.db/'\n",
    "display(dbutils.fs.ls(warehouse_airline_uri))"
   ]
  },
  {
   "cell_type": "code",
   "execution_count": 0,
   "metadata": {
    "application/vnd.databricks.v1+cell": {
     "cellMetadata": {
      "byteLimit": 2048000,
      "rowLimit": 10000
     },
     "inputWidgets": {},
     "nuid": "ae51ca28-82ae-4d82-83d3-853ed3d3ffbd",
     "showTitle": false,
     "title": ""
    }
   },
   "outputs": [],
   "source": [
    "airline_part_0000_uri = 'dbfs:/user/hive/warehouse/airline.db/airline_part_00000/'\n",
    "display(dbutils.fs.ls(airline_part_0000_uri))"
   ]
  },
  {
   "cell_type": "code",
   "execution_count": 0,
   "metadata": {
    "application/vnd.databricks.v1+cell": {
     "cellMetadata": {
      "byteLimit": 2048000,
      "rowLimit": 10000
     },
     "inputWidgets": {},
     "nuid": "a554a7df-9214-44d4-93bf-62da1c4de780",
     "showTitle": false,
     "title": ""
    }
   },
   "outputs": [],
   "source": [
    "airline_delta_logs_uri = 'dbfs:/user/hive/warehouse/airline.db/airline_part_00000/_delta_log/'\n",
    "display(dbutils.fs.ls(airline_delta_logs_uri))"
   ]
  },
  {
   "cell_type": "markdown",
   "metadata": {
    "application/vnd.databricks.v1+cell": {
     "cellMetadata": {},
     "inputWidgets": {},
     "nuid": "8a6565f1-9947-48f1-91ef-c60768d1b50f",
     "showTitle": false,
     "title": ""
    }
   },
   "source": [
    "#### Verificando se está em Delta"
   ]
  },
  {
   "cell_type": "code",
   "execution_count": 0,
   "metadata": {
    "application/vnd.databricks.v1+cell": {
     "cellMetadata": {
      "byteLimit": 2048000,
      "rowLimit": 10000
     },
     "inputWidgets": {},
     "nuid": "b581fdd7-796b-4628-9e53-6c3f427e4527",
     "showTitle": false,
     "title": ""
    }
   },
   "outputs": [],
   "source": [
    "from delta.tables import *\n",
    "\n",
    "deltaTable = DeltaTable.forPath(spark, airline_part_0000_uri)\n",
    "\n",
    "df_detail = deltaTable.detail()\n",
    "df_detail.display()"
   ]
  },
  {
   "cell_type": "code",
   "execution_count": 0,
   "metadata": {
    "application/vnd.databricks.v1+cell": {
     "cellMetadata": {
      "byteLimit": 2048000,
      "rowLimit": 10000
     },
     "inputWidgets": {},
     "nuid": "735a0c0d-ec9b-4818-bbae-a5f040ca4dea",
     "showTitle": false,
     "title": ""
    }
   },
   "outputs": [],
   "source": [
    "DeltaTable.isDeltaTable(spark, airline_part_0000_uri)"
   ]
  }
 ],
 "metadata": {
  "application/vnd.databricks.v1+notebook": {
   "dashboards": [],
   "language": "python",
   "notebookMetadata": {
    "mostRecentlyExecutedCommandWithImplicitDF": {
     "commandId": 3685020576688325,
     "dataframes": [
      "_sqldf"
     ]
    },
    "pythonIndentUnit": 4
   },
   "notebookName": "Trabalhando_Com_Delta",
   "widgets": {}
  }
 },
 "nbformat": 4,
 "nbformat_minor": 0
}
